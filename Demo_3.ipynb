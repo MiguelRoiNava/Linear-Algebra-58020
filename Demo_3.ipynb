{
  "nbformat": 4,
  "nbformat_minor": 0,
  "metadata": {
    "colab": {
      "name": "Demo_3.ipynb",
      "provenance": [],
      "authorship_tag": "ABX9TyPe904CWg4oP4m89i0iFnBy",
      "include_colab_link": true
    },
    "kernelspec": {
      "name": "python3",
      "display_name": "Python 3"
    },
    "language_info": {
      "name": "python"
    }
  },
  "cells": [
    {
      "cell_type": "markdown",
      "metadata": {
        "id": "view-in-github",
        "colab_type": "text"
      },
      "source": [
        "<a href=\"https://colab.research.google.com/github/MiguelRoiNava/Linear-Algebra-58020/blob/main/Demo_3.ipynb\" target=\"_parent\"><img src=\"https://colab.research.google.com/assets/colab-badge.svg\" alt=\"Open In Colab\"/></a>"
      ]
    },
    {
      "cell_type": "code",
      "execution_count": 1,
      "metadata": {
        "colab": {
          "base_uri": "https://localhost:8080/"
        },
        "id": "81t60VRlWFNQ",
        "outputId": "8cec0d84-b5e0-43c2-f805-e3274e586820"
      },
      "outputs": [
        {
          "output_type": "stream",
          "name": "stdout",
          "text": [
            "[[  5   2]\n",
            " [  4 -11]]\n",
            "[[ 6]\n",
            " [21]]\n",
            "[[ 1.71428571]\n",
            " [-1.28571429]]\n"
          ]
        }
      ],
      "source": [
        "import numpy as np\n",
        "from scipy.linalg import solve\n",
        "\n",
        "A = np.array([[5,2],[4,-11]])\n",
        "print(A)\n",
        "B = np.array([[6],[21]])\n",
        "print(B)\n",
        "\n",
        "X = np.linalg.inv(A).dot(B)\n",
        "print(X)"
      ]
    },
    {
      "cell_type": "code",
      "source": [
        "import numpy as np\n",
        "inv_A = np.linalg.inv(A)\n",
        "print(inv_A)\n",
        "\n",
        "X = np.dot(inv_A,B)\n",
        "print(X)"
      ],
      "metadata": {
        "colab": {
          "base_uri": "https://localhost:8080/"
        },
        "id": "RmoNqSLnWVDA",
        "outputId": "f959a477-a446-4d50-ba56-7613df8a729a"
      },
      "execution_count": 2,
      "outputs": [
        {
          "output_type": "stream",
          "name": "stdout",
          "text": [
            "[[ 0.17460317  0.03174603]\n",
            " [ 0.06349206 -0.07936508]]\n",
            "[[ 1.71428571]\n",
            " [-1.28571429]]\n"
          ]
        }
      ]
    },
    {
      "cell_type": "code",
      "source": [
        "X = np.linalg.solve(A,B)\n",
        "print(X)"
      ],
      "metadata": {
        "colab": {
          "base_uri": "https://localhost:8080/"
        },
        "id": "W77cXzMqWVhy",
        "outputId": "6eb27265-80b8-4356-ca5c-0dac5c54cc7b"
      },
      "execution_count": 3,
      "outputs": [
        {
          "output_type": "stream",
          "name": "stdout",
          "text": [
            "[[ 1.71428571]\n",
            " [-1.28571429]]\n"
          ]
        }
      ]
    },
    {
      "cell_type": "code",
      "source": [
        "from scipy.linalg import solve\n",
        "X = solve(A,B)\n",
        "print(X)"
      ],
      "metadata": {
        "colab": {
          "base_uri": "https://localhost:8080/"
        },
        "id": "7tZ8_y1FWYgn",
        "outputId": "4b24362e-234f-49d5-a28c-fb369444c140"
      },
      "execution_count": 4,
      "outputs": [
        {
          "output_type": "stream",
          "name": "stdout",
          "text": [
            "[[ 1.71428571]\n",
            " [-1.28571429]]\n"
          ]
        }
      ]
    }
  ]
}