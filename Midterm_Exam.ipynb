{
  "nbformat": 4,
  "nbformat_minor": 0,
  "metadata": {
    "colab": {
      "name": "Midterm Exam.ipynb",
      "provenance": [],
      "authorship_tag": "ABX9TyNRBZmyNlcluLxlWIG8DJit",
      "include_colab_link": true
    },
    "kernelspec": {
      "name": "python3",
      "display_name": "Python 3"
    },
    "language_info": {
      "name": "python"
    }
  },
  "cells": [
    {
      "cell_type": "markdown",
      "metadata": {
        "id": "view-in-github",
        "colab_type": "text"
      },
      "source": [
        "<a href=\"https://colab.research.google.com/github/MiguelRoiNava/Linear-Algebra-58020/blob/main/Midterm_Exam.ipynb\" target=\"_parent\"><img src=\"https://colab.research.google.com/assets/colab-badge.svg\" alt=\"Open In Colab\"/></a>"
      ]
    },
    {
      "cell_type": "code",
      "metadata": {
        "colab": {
          "base_uri": "https://localhost:8080/"
        },
        "id": "dl3an3cPHR5H",
        "outputId": "861aa3e2-c71a-4820-aec3-d2717bb17898"
      },
      "source": [
        "import numpy as np\n",
        "A = np.array([[2,4,6,8,10],[1,3,5,7,9],[12,14,16,18,20],[11,13,15,17,19],[0,1,2,3,4]])\n",
        "print(A)"
      ],
      "execution_count": 1,
      "outputs": [
        {
          "output_type": "stream",
          "name": "stdout",
          "text": [
            "[[ 2  4  6  8 10]\n",
            " [ 1  3  5  7  9]\n",
            " [12 14 16 18 20]\n",
            " [11 13 15 17 19]\n",
            " [ 0  1  2  3  4]]\n"
          ]
        }
      ]
    },
    {
      "cell_type": "code",
      "metadata": {
        "colab": {
          "base_uri": "https://localhost:8080/"
        },
        "id": "vSIUDVMuHUZv",
        "outputId": "bf16470c-e56a-4b47-bcd3-157eafb8b72d"
      },
      "source": [
        "import numpy as np \n",
        "A = np.array([[1,1,1,1],[0,1,1,1],[0,0,1,1],[0,0,0,1]])\n",
        "print(A)"
      ],
      "execution_count": 2,
      "outputs": [
        {
          "output_type": "stream",
          "name": "stdout",
          "text": [
            "[[1 1 1 1]\n",
            " [0 1 1 1]\n",
            " [0 0 1 1]\n",
            " [0 0 0 1]]\n"
          ]
        }
      ]
    },
    {
      "cell_type": "code",
      "metadata": {
        "colab": {
          "base_uri": "https://localhost:8080/"
        },
        "id": "DiQ6yCsIHV9o",
        "outputId": "a670ba70-d70e-45ae-c34c-dddb9de72cc8"
      },
      "source": [
        "import numpy as np\n",
        "A = np.array([[2,3,4,5,6],[3,2,3,4,5],[4,3,2,3,4],[5,4,3,2,3],[6,5,4,3,2]])\n",
        "print(A)"
      ],
      "execution_count": 3,
      "outputs": [
        {
          "output_type": "stream",
          "name": "stdout",
          "text": [
            "[[2 3 4 5 6]\n",
            " [3 2 3 4 5]\n",
            " [4 3 2 3 4]\n",
            " [5 4 3 2 3]\n",
            " [6 5 4 3 2]]\n"
          ]
        }
      ]
    },
    {
      "cell_type": "code",
      "metadata": {
        "colab": {
          "base_uri": "https://localhost:8080/"
        },
        "id": "y1iwf9dbHXLP",
        "outputId": "54bcfac4-d3ae-4449-abc7-9f9e2ab17b34"
      },
      "source": [
        "import numpy as np\n",
        "C = np.array ([[1,2,3],[2,3,3],[3,4,-2]])\n",
        "invC = np.linalg.inv(C) #Inverse of Matrix C\n",
        "print(invC)"
      ],
      "execution_count": 4,
      "outputs": [
        {
          "output_type": "stream",
          "name": "stdout",
          "text": [
            "[[-3.6  3.2 -0.6]\n",
            " [ 2.6 -2.2  0.6]\n",
            " [-0.2  0.4 -0.2]]\n"
          ]
        }
      ]
    },
    {
      "cell_type": "code",
      "metadata": {
        "colab": {
          "base_uri": "https://localhost:8080/"
        },
        "id": "hI_ZvREoHd2l",
        "outputId": "c6393cb2-625d-4fdd-d38b-c348a302049b"
      },
      "source": [
        "import numpy as np\n",
        "C = np.array ([[1,2,3],[2,3,3],[3,4,-2]])\n",
        "detOfC = np.linalg.det(C)\n",
        "\n",
        "print(\"Determinant of the given matrix in Question 4:\")\n",
        "print(int(detOfC))"
      ],
      "execution_count": 5,
      "outputs": [
        {
          "output_type": "stream",
          "name": "stdout",
          "text": [
            "Determinant of the given matrix in Question 4:\n",
            "5\n"
          ]
        }
      ]
    },
    {
      "cell_type": "code",
      "metadata": {
        "colab": {
          "base_uri": "https://localhost:8080/"
        },
        "id": "i-hw6S2mHfVr",
        "outputId": "e60f37a6-9892-47d7-fc06-0369b3671e0b"
      },
      "source": [
        "import numpy as np \n",
        "Equations = np.array([[5,4,1],\n",
        "                      [10,9,4],\n",
        "                      [10,13,15]])\n",
        "Constants = np.array([[[3.4],\n",
        "                       [8.8],\n",
        "                       [19.2]]])\n",
        "roots = np.linalg.inv(Equations) @ Constants\n",
        "\n",
        "print(roots)"
      ],
      "execution_count": 6,
      "outputs": [
        {
          "output_type": "stream",
          "name": "stdout",
          "text": [
            "[[[0.2]\n",
            "  [0.4]\n",
            "  [0.8]]]\n"
          ]
        }
      ]
    }
  ]
}